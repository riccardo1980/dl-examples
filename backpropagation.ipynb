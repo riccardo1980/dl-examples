{
  "nbformat": 4,
  "nbformat_minor": 0,
  "metadata": {
    "colab": {
      "name": "Untitled2.ipynb",
      "version": "0.3.2",
      "provenance": []
    },
    "kernelspec": {
      "name": "python3",
      "display_name": "Python 3"
    }
  },
  "cells": [
    {
      "cell_type": "markdown",
      "metadata": {
        "id": "yVTzgIR5H-my",
        "colab_type": "text"
      },
      "source": [
        "# Backpropagation example\n",
        "\n",
        "- dataset: MNIST\n",
        "- layers: fullyconnected\n",
        "- activation: sigmoid\n",
        "- loss: categorical cross entropy"
      ]
    },
    {
      "cell_type": "code",
      "metadata": {
        "id": "fU9KnKQxH42P",
        "colab_type": "code",
        "colab": {}
      },
      "source": [
        "import numpy as np\n",
        "from sklearn import datasets"
      ],
      "execution_count": 0,
      "outputs": []
    },
    {
      "cell_type": "code",
      "metadata": {
        "id": "fzmH41xQIIO8",
        "colab_type": "code",
        "colab": {}
      },
      "source": [
        "class FullyConnectedLayer():\n",
        "  \n",
        "  def __init__(self, n_outputs, seed=None,\n",
        "               initializer=np.random.standard_normal):\n",
        "    self.n_inputs = None\n",
        "    self.n_outputs = n_outputs\n",
        "    \n",
        "    # variables\n",
        "    self.weights = None\n",
        "    self.bias = None\n",
        "    \n",
        "    # initializer\n",
        "    self._is_initialized = False\n",
        "    self.seed = seed\n",
        "    self.initializer = initializer\n",
        "    \n",
        "    # keep track of last output\n",
        "    self.outputs = {\n",
        "        \"z\": None\n",
        "    }\n",
        "  \n",
        "  def _initialize(self):\n",
        "    np.random.seed(self.seed)\n",
        "    self.weights = self.initializer([self.n_inputs, self.n_outputs])\n",
        "    self.bias = self.initializer([1, self.n_outputs])\n",
        "    \n",
        "  def forward_pass(self, X):\n",
        "    if self._is_initialized is False:\n",
        "      self.n_inputs = X.shape[1]\n",
        "      self._initialize()\n",
        "    \n",
        "    z = np.dot(X, self.weights) + self.bias  \n",
        "    self.outputs['z'] = np.copy(z)\n",
        "    \n",
        "    return z\n",
        "  \n",
        "  def backward_pass(self):\n",
        "    pass"
      ],
      "execution_count": 0,
      "outputs": []
    },
    {
      "cell_type": "code",
      "metadata": {
        "id": "mECqobgwOSDA",
        "colab_type": "code",
        "colab": {}
      },
      "source": [
        "class SigmoidLayer():\n",
        "  \n",
        "  def __init__(self):\n",
        "    # keep track of last output\n",
        "    self.outputs = {\n",
        "        \"z\": None\n",
        "    }\n",
        "  \n",
        "  def forward_pass(self, X):\n",
        "    z = 1.0 / (1.0 + np.exp(-X))\n",
        "    \n",
        "    self.outputs['z'] = z\n",
        "    \n",
        "    return z\n",
        "    \n",
        "  def backward_pass(self):\n",
        "    pass"
      ],
      "execution_count": 0,
      "outputs": []
    },
    {
      "cell_type": "code",
      "metadata": {
        "id": "X4Md2zwVOX9o",
        "colab_type": "code",
        "colab": {}
      },
      "source": [
        "class CrossEntropyWithLogits():\n",
        "  \n",
        "  def _softmax(X):\n",
        "    num = np.exp(X - np.max(X))\n",
        "    z = num / np.sum(num)\n",
        "    \n",
        "    return z  \n",
        "  \n",
        "  def __init__(self):\n",
        "    pass\n",
        "  \n",
        "  def forward_pass(self, X, labels):\n",
        "    \"\"\"\n",
        "      Parameters\n",
        "      ----------\n",
        "      X: numpy array [batch_size, features]\n",
        "      labels: numpy array [batch_size, 1]\n",
        "      \n",
        "      Output\n",
        "      ------\n",
        "      scalar\n",
        "    \"\"\"\n",
        "    \n",
        "    batch_size = X.shape[0]\n",
        "    p = self._softmax(X)\n",
        "    \n",
        "    log_likelihood = -np.log(p[range(batch_size), labels])\n",
        "    \n",
        "    loss = np.sum(log_likelihood)\n",
        "    \n",
        "  def backward_pass(self):\n",
        "    pass"
      ],
      "execution_count": 0,
      "outputs": []
    },
    {
      "cell_type": "code",
      "metadata": {
        "id": "ocXEooaiSvbe",
        "colab_type": "code",
        "colab": {
          "base_uri": "https://localhost:8080/",
          "height": 34
        },
        "outputId": "9747e1a7-2a69-418f-8d5b-0aa0e6ce2c4e"
      },
      "source": [
        " # Load dataset\n",
        "from keras.datasets import mnist\n",
        "\n",
        "(X_train, y_train), (X_test, y_test) = mnist.load_data()\n",
        "\n",
        "# reshape to have one row per observation\n",
        "X_train = X_train.reshape(-1, 28*28)\n",
        "X_test = X_test.reshape(-1, 28*28)\n",
        "\n",
        "# reshape to have one column labels\n",
        "y_train = np.expand_dims(y_train, axis=1)\n",
        "y_test = np.expand_dims(y_test, axis=1)  "
      ],
      "execution_count": 8,
      "outputs": [
        {
          "output_type": "stream",
          "text": [
            "Using TensorFlow backend.\n"
          ],
          "name": "stderr"
        }
      ]
    },
    {
      "cell_type": "code",
      "metadata": {
        "id": "l2nLfGBiWUU8",
        "colab_type": "code",
        "colab": {}
      },
      "source": [
        "net = []\n",
        "\n",
        "net.append(FullyConnectedLayer(10, seed=42))\n",
        "net.append(SigmoidLayer())"
      ],
      "execution_count": 0,
      "outputs": []
    },
    {
      "cell_type": "code",
      "metadata": {
        "id": "Vs0pIKLsXiTL",
        "colab_type": "code",
        "colab": {
          "base_uri": "https://localhost:8080/",
          "height": 51
        },
        "outputId": "5cbbee50-87c6-4807-ae8e-4fd8504585e5"
      },
      "source": [
        "batch = X_train[:20]\n",
        "\n",
        "activations_0 = net[0].forward_pass(batch)\n",
        "activations_1 = net[1].forward_pass(activations_0)"
      ],
      "execution_count": 12,
      "outputs": [
        {
          "output_type": "stream",
          "text": [
            "/usr/local/lib/python3.6/dist-packages/ipykernel_launcher.py:10: RuntimeWarning: overflow encountered in exp\n",
            "  # Remove the CWD from sys.path while we load stuff.\n"
          ],
          "name": "stderr"
        }
      ]
    },
    {
      "cell_type": "code",
      "metadata": {
        "id": "QwgPlskFZQTT",
        "colab_type": "code",
        "colab": {}
      },
      "source": [
        "def epoch_batcher(features, labels, batch_size=100):\n",
        "    # Provide chunks one by one\n",
        "    start = 0\n",
        "    N = len(features)\n",
        "    while start < N:\n",
        "        rows = range(start,start+batch_size)\n",
        "        start += batch_size\n",
        "        yield features[rows], labels[rows]"
      ],
      "execution_count": 0,
      "outputs": []
    },
    {
      "cell_type": "code",
      "metadata": {
        "id": "WHvVltDOcZk2",
        "colab_type": "code",
        "colab": {
          "base_uri": "https://localhost:8080/",
          "height": 68
        },
        "outputId": "fc24f474-58b5-4497-be6d-0a82d99e1c7a"
      },
      "source": [
        "\n",
        "n_epochs=1\n",
        "\n",
        "for epoch in range(n_epochs):\n",
        "  for idx, (features, labels) in enumerate(epoch_batcher(X_train, y_train, batch_size=1000)):\n",
        "    print('epoch {}, batch {}'.format(epoch,idx))\n",
        "    \n",
        "    # forward pass\n",
        "    activations = features\n",
        "    for layer in net:\n",
        "      activations = layer.forward_pass(activations)\n",
        "      \n",
        "    break  "
      ],
      "execution_count": 18,
      "outputs": [
        {
          "output_type": "stream",
          "text": [
            "epoch 0, batch 0\n"
          ],
          "name": "stdout"
        },
        {
          "output_type": "stream",
          "text": [
            "/usr/local/lib/python3.6/dist-packages/ipykernel_launcher.py:10: RuntimeWarning: overflow encountered in exp\n",
            "  # Remove the CWD from sys.path while we load stuff.\n"
          ],
          "name": "stderr"
        }
      ]
    },
    {
      "cell_type": "code",
      "metadata": {
        "id": "9I-NRNzbdWhw",
        "colab_type": "code",
        "colab": {
          "base_uri": "https://localhost:8080/",
          "height": 238
        },
        "outputId": "1fc1bf0f-b4c1-49ce-8327-32fc8b6ccf80"
      },
      "source": [
        "activations"
      ],
      "execution_count": 19,
      "outputs": [
        {
          "output_type": "execute_result",
          "data": {
            "text/plain": [
              "array([[1.00000000e+000, 0.00000000e+000, 1.00000000e+000, ...,\n",
              "        0.00000000e+000, 0.00000000e+000, 1.00000000e+000],\n",
              "       [1.00000000e+000, 1.00000000e+000, 0.00000000e+000, ...,\n",
              "        0.00000000e+000, 0.00000000e+000, 1.00000000e+000],\n",
              "       [1.00000000e+000, 0.00000000e+000, 1.81871926e-294, ...,\n",
              "        1.00000000e+000, 1.00000000e+000, 1.00000000e+000],\n",
              "       ...,\n",
              "       [1.00000000e+000, 0.00000000e+000, 1.00000000e+000, ...,\n",
              "        0.00000000e+000, 0.00000000e+000, 0.00000000e+000],\n",
              "       [1.00000000e+000, 1.00000000e+000, 1.00000000e+000, ...,\n",
              "        1.00000000e+000, 0.00000000e+000, 1.78856517e-166],\n",
              "       [1.00000000e+000, 0.00000000e+000, 1.00000000e+000, ...,\n",
              "        1.00000000e+000, 0.00000000e+000, 0.00000000e+000]])"
            ]
          },
          "metadata": {
            "tags": []
          },
          "execution_count": 19
        }
      ]
    },
    {
      "cell_type": "code",
      "metadata": {
        "id": "hIEb7Xi9eQ7A",
        "colab_type": "code",
        "colab": {}
      },
      "source": [
        ""
      ],
      "execution_count": 0,
      "outputs": []
    }
  ]
}