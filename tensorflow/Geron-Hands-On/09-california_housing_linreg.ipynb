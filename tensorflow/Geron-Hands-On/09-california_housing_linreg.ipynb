{
 "cells": [
  {
   "cell_type": "markdown",
   "metadata": {},
   "source": [
    "# Tensorflow\n",
    "\n",
    "- session defonition\n",
    "- variables, constants, placeholders\n",
    "- auto differentiation\n",
    "\n",
    "Chap. 9 of A. Geron - Hands-On Machine Learning with Scikit-learn & Tensorflow "
   ]
  },
  {
   "cell_type": "code",
   "execution_count": 1,
   "metadata": {},
   "outputs": [],
   "source": [
    "# filter out future warnings from numpy on tensorflow calls\n",
    "import warnings  \n",
    "import numpy as np\n",
    "\n",
    "with warnings.catch_warnings():  \n",
    "    warnings.filterwarnings(\"ignore\",category=FutureWarning)\n",
    "    import tensorflow as tf\n",
    "\n",
    "from sklearn.datasets import fetch_california_housing\n",
    "from sklearn.preprocessing import StandardScaler"
   ]
  },
  {
   "cell_type": "markdown",
   "metadata": {},
   "source": [
    "## Dataset Loading  and scaling"
   ]
  },
  {
   "cell_type": "code",
   "execution_count": 2,
   "metadata": {},
   "outputs": [],
   "source": [
    "housing = fetch_california_housing()\n",
    "m, n = housing.data.shape\n",
    "scaler = StandardScaler()\n",
    "scaled_housing_data = scaler.fit_transform(housing.data)\n",
    "scaled_housing_data_plus_bias = np.c_[np.ones((m,1)), scaled_housing_data]"
   ]
  },
  {
   "cell_type": "code",
   "execution_count": 3,
   "metadata": {},
   "outputs": [
    {
     "name": "stdout",
     "output_type": "stream",
     "text": [
      "[ 1.00000000e+00  6.60969987e-17  5.50808322e-18  6.60969987e-17\n",
      " -1.06030602e-16 -1.10161664e-17  3.44255201e-18 -1.07958431e-15\n",
      " -8.52651283e-15]\n",
      "[0. 1. 1. 1. 1. 1. 1. 1. 1.]\n"
     ]
    }
   ],
   "source": [
    "print(scaled_housing_data_plus_bias.mean(axis=0))\n",
    "print(scaled_housing_data_plus_bias.std(axis=0))"
   ]
  },
  {
   "cell_type": "markdown",
   "metadata": {},
   "source": [
    "# Reduction to canonical form"
   ]
  },
  {
   "cell_type": "markdown",
   "metadata": {},
   "source": [
    "\\begin{align}\n",
    "f\\left(\\theta\\right) &= \\frac{1}{m} \\sum_{i=1}^{m} \\left(\\left[1, x^{(i)}\\right] \\theta - y^{(i)}\\right)^2 = \\frac{1}{m} \\left(X\\theta - y\\right)^{T} \\left(X\\theta - y\\right) = \\\\\n",
    "&= \\frac{1}{m} \\theta^T X^T X \\theta -2 \\left(X^Ty\\right)^T \\theta + y^Ty = \\\\\n",
    "&= \\frac{2}{m} \\left( \\frac{1}{2} \\theta^T H \\theta - b^T \\theta + \\frac{c}{2} \\right) = \\\\\n",
    "g \\left(\\theta\\right) &= \\frac{2}{m} H \\theta - b\n",
    "\\end{align}\n",
    "\n",
    "With:\n",
    "\\begin{equation}\n",
    "H = X^T X, \\quad b = X^Ty, \\quad c = y^Ty\n",
    "\\end{equation}"
   ]
  },
  {
   "cell_type": "markdown",
   "metadata": {},
   "source": [
    "## Ridge Regression: direct solution\n",
    "Consider also the possibility to introduce some regularization:\n",
    "\\begin{align}\n",
    "f\\left(\\theta\\right) &=\n",
    "\\frac{2}{m} \n",
    "\\left(\\frac{1}{2} \\theta^T H \\theta - b^T \\theta + \\frac{c}{2} + \\frac{\\lambda}{2} \\theta^T\\theta\\right) = \\\\\n",
    "g \\left(\\theta\\right) &= \\frac{2}{m} \\left(H + \\lambda I\\right)\\theta - b\n",
    "\\end{align}\n",
    "\n",
    "With:\n",
    "\\begin{equation}\n",
    "H = X^T X, \\quad b = X^Ty, \\quad c = y^Ty\n",
    "\\end{equation}"
   ]
  },
  {
   "cell_type": "code",
   "execution_count": 4,
   "metadata": {},
   "outputs": [
    {
     "name": "stdout",
     "output_type": "stream",
     "text": [
      "Hessian condition number: 4.45e+01\n"
     ]
    }
   ],
   "source": [
    "H = np.matmul(scaled_housing_data_plus_bias.T,scaled_housing_data_plus_bias)\n",
    "k = np.linalg.cond(H)\n",
    "print('Hessian condition number: {:4.2e}'.format(k))"
   ]
  },
  {
   "cell_type": "code",
   "execution_count": 5,
   "metadata": {},
   "outputs": [],
   "source": [
    "class LinearRegressionDirect:\n",
    "    def __init__ (self, X, y):\n",
    "        self._X = X\n",
    "        self._y = y\n",
    "    \n",
    "    def solve(self):\n",
    "        self._define_model()\n",
    "        with tf.Session(graph=self._graph) as sess:\n",
    "            best_theta = tf.get_default_graph().get_tensor_by_name(\"theta:0\").eval()\n",
    "        \n",
    "        return best_theta\n",
    "    \n",
    "    def _define_model(self):\n",
    "        self._graph = tf.Graph()\n",
    "        with self._graph.as_default():\n",
    "            X = tf.constant(self._X, dtype=tf.float32, name=\"X\")\n",
    "            y = tf.constant(self._y, dtype=tf.float32, name=\"y\")\n",
    "            H = tf.matmul(tf.transpose(X), X)\n",
    "            b = tf.matmul(tf.transpose(X), y)\n",
    "\n",
    "            theta = tf.matmul(tf.matrix_inverse(H), b, name=\"theta\")"
   ]
  },
  {
   "cell_type": "code",
   "execution_count": 6,
   "metadata": {},
   "outputs": [],
   "source": [
    "lr = LinearRegressionDirect(X=scaled_housing_data_plus_bias, y=housing.target.reshape(-1, 1))\n",
    "best_theta = lr.solve()"
   ]
  },
  {
   "cell_type": "code",
   "execution_count": 7,
   "metadata": {},
   "outputs": [
    {
     "name": "stdout",
     "output_type": "stream",
     "text": [
      "[[ 2.068557  ]\n",
      " [ 0.8296201 ]\n",
      " [ 0.11875182]\n",
      " [-0.26552784]\n",
      " [ 0.30569708]\n",
      " [-0.00450303]\n",
      " [-0.03932629]\n",
      " [-0.8998834 ]\n",
      " [-0.8705387 ]]\n",
      "mse: 5.24e-01\n"
     ]
    }
   ],
   "source": [
    "print(best_theta)\n",
    "err = np.matmul(scaled_housing_data_plus_bias, best_theta) - housing.target.reshape(-1, 1)\n",
    "print('mse: {:4.2e}'.format(np.sum(np.matmul(err.T,err))/m))"
   ]
  },
  {
   "cell_type": "markdown",
   "metadata": {},
   "source": [
    "## Gradient Descent"
   ]
  },
  {
   "cell_type": "code",
   "execution_count": 8,
   "metadata": {},
   "outputs": [],
   "source": [
    "learning_rate = 1e-2"
   ]
  },
  {
   "cell_type": "code",
   "execution_count": 9,
   "metadata": {},
   "outputs": [],
   "source": [
    "class GDError(Exception):\n",
    "    \"\"\"Base class for exceptions in this module.\"\"\"\n",
    "    pass\n",
    "\n",
    "class GDNotFittedError(GDError):\n",
    "    def __init__(self, message):\n",
    "        self.message = message\n",
    "\n",
    "class GDQuadratic_template:\n",
    "    def __init__ (self, X, y, learning_rate=1e-2, n_epochs=2000, print_every=200):\n",
    "        self._X = X\n",
    "        self._y = y\n",
    "        self._learning_rate = learning_rate\n",
    "        self._n_epochs = n_epochs\n",
    "        self._print_every = print_every\n",
    "        self._best_theta = None\n",
    "        \n",
    "    def fit(self):\n",
    "        self._define_model()\n",
    "        with tf.Session(graph=self._graph) as sess:\n",
    "    \n",
    "            init = tf.get_default_graph().get_operation_by_name(\"init\")\n",
    "            training_op = tf.get_default_graph().get_operation_by_name(\"training_op\")\n",
    "            mse = tf.get_default_graph().get_tensor_by_name(\"mse:0\")\n",
    "            theta =  tf.get_default_graph().get_tensor_by_name(\"theta:0\")\n",
    "            \n",
    "            sess.run(init)\n",
    "    \n",
    "            for epoch in range(self._n_epochs):\n",
    "                if epoch % self._print_every == 0:\n",
    "                    mse_k = mse.eval()\n",
    "                    print('Epoch {:05d}, MSE={:4.2e}'.format(epoch,mse_k))\n",
    "            \n",
    "                sess.run(training_op)\n",
    "    \n",
    "            self._best_theta = theta.eval()\n",
    "        \n",
    "    def get_theta(self):\n",
    "        if self._best_theta is None:\n",
    "            raise GDNotFittedError()\n",
    "            \n",
    "        return self._best_theta\n",
    "    \n",
    "    def _define_model(self):\n",
    "        pass"
   ]
  },
  {
   "cell_type": "code",
   "execution_count": 10,
   "metadata": {},
   "outputs": [],
   "source": [
    "class GDQuadratic_1(GDQuadratic_template):\n",
    "    def __init__ (self, X, y, learning_rate=1e-2, n_epochs=2000, print_every=200):\n",
    "        super(GDQuadratic_1, self).__init__( X, y, learning_rate=learning_rate, n_epochs=n_epochs, print_every=print_every)\n",
    "    \n",
    "    def _define_model(self):\n",
    "        self._graph = tf.Graph()\n",
    "        with self._graph.as_default():\n",
    "            X = tf.constant(self._X, dtype=tf.float32, name=\"X\")\n",
    "            y = tf.constant(self._y, dtype=tf.float32, name=\"y\")\n",
    "            H = tf.matmul(tf.transpose(X), X)\n",
    "            b = tf.matmul(tf.transpose(X), y)\n",
    "            \n",
    "            # variables\n",
    "            theta = tf.Variable(tf.zeros([n+1, 1]), name=\"theta\")\n",
    "\n",
    "            # initialization step\n",
    "            init = tf.global_variables_initializer()\n",
    "\n",
    "            # fval evaluation\n",
    "            y_pred = tf.matmul(X, theta, name='predictions')        # X*theta\n",
    "            error = y_pred - y\n",
    "            mse = tf.reduce_mean(tf.square(error), name=\"mse\")\n",
    "\n",
    "            # gradient evaluation\n",
    "            grad = 2/m * (tf.matmul(tf.transpose(H), theta) - b)\n",
    "\n",
    "            # update step\n",
    "            training_op = tf.assign(theta, theta - learning_rate * grad, name=\"training_op\")"
   ]
  },
  {
   "cell_type": "code",
   "execution_count": 11,
   "metadata": {},
   "outputs": [
    {
     "name": "stdout",
     "output_type": "stream",
     "text": [
      "Epoch 00000, MSE=5.61e+00\n",
      "Epoch 00200, MSE=5.98e-01\n",
      "Epoch 00400, MSE=5.63e-01\n",
      "Epoch 00600, MSE=5.46e-01\n",
      "Epoch 00800, MSE=5.36e-01\n",
      "Epoch 01000, MSE=5.31e-01\n",
      "Epoch 01200, MSE=5.28e-01\n",
      "Epoch 01400, MSE=5.27e-01\n",
      "Epoch 01600, MSE=5.26e-01\n",
      "Epoch 01800, MSE=5.25e-01\n"
     ]
    }
   ],
   "source": [
    "gd = GDQuadratic_1(X=scaled_housing_data_plus_bias, y=housing.target.reshape(-1, 1), learning_rate=learning_rate)\n",
    "gd.fit()\n",
    "best_theta = gd.get_theta()"
   ]
  },
  {
   "cell_type": "code",
   "execution_count": 12,
   "metadata": {},
   "outputs": [
    {
     "name": "stdout",
     "output_type": "stream",
     "text": [
      "[[ 2.0685511e+00]\n",
      " [ 8.4174490e-01]\n",
      " [ 1.2624303e-01]\n",
      " [-2.7867654e-01]\n",
      " [ 3.1227779e-01]\n",
      " [-1.9351706e-03]\n",
      " [-4.0218521e-02]\n",
      " [-8.3388931e-01]\n",
      " [-8.0548364e-01]]\n",
      "mse: 5.25e-01\n"
     ]
    }
   ],
   "source": [
    "print(best_theta)\n",
    "err = np.matmul(scaled_housing_data_plus_bias, best_theta) - housing.target.reshape(-1, 1)\n",
    "print('mse: {:4.2e}'.format(np.sum(np.matmul(err.T,err))/m))"
   ]
  },
  {
   "cell_type": "markdown",
   "metadata": {},
   "source": [
    "## SD with autodiff"
   ]
  },
  {
   "cell_type": "code",
   "execution_count": 13,
   "metadata": {},
   "outputs": [],
   "source": [
    "learning_rate = 1e-2"
   ]
  },
  {
   "cell_type": "code",
   "execution_count": 14,
   "metadata": {},
   "outputs": [],
   "source": [
    "class GDQuadratic_2(GDQuadratic_template):\n",
    "    def __init__ (self, X, y, learning_rate=1e-2, n_epochs=2000, print_every=200):\n",
    "        super(GDQuadratic_2, self).__init__( X, y, learning_rate=learning_rate, n_epochs=n_epochs, print_every=print_every)\n",
    "    \n",
    "    def _define_model(self):\n",
    "        self._graph = tf.Graph()\n",
    "        with self._graph.as_default():\n",
    "            X = tf.constant(self._X, dtype=tf.float32, name=\"X\")\n",
    "            y = tf.constant(self._y, dtype=tf.float32, name=\"y\")\n",
    "            H = tf.matmul(tf.transpose(X), X)\n",
    "            b = tf.matmul(tf.transpose(X), y)\n",
    "            \n",
    "            # variables\n",
    "            theta = tf.Variable(tf.zeros([n+1, 1]), name=\"theta\")\n",
    "\n",
    "            # initialization step\n",
    "            init = tf.global_variables_initializer()\n",
    "\n",
    "            # fval evaluation\n",
    "            y_pred = tf.matmul(X, theta, name='predictions')        # X*theta\n",
    "            error = y_pred - y\n",
    "            mse = tf.reduce_mean(tf.square(error), name=\"mse\")\n",
    "\n",
    "            # gradient evaluation\n",
    "            grad = tf.gradients(mse, [theta])[0]\n",
    "\n",
    "            # update step\n",
    "            training_op = tf.assign(theta, theta - learning_rate * grad, name=\"training_op\")"
   ]
  },
  {
   "cell_type": "code",
   "execution_count": 15,
   "metadata": {},
   "outputs": [
    {
     "name": "stdout",
     "output_type": "stream",
     "text": [
      "Epoch 00000, MSE=5.61e+00\n",
      "Epoch 00200, MSE=5.98e-01\n",
      "Epoch 00400, MSE=5.63e-01\n",
      "Epoch 00600, MSE=5.46e-01\n",
      "Epoch 00800, MSE=5.36e-01\n",
      "Epoch 01000, MSE=5.31e-01\n",
      "Epoch 01200, MSE=5.28e-01\n",
      "Epoch 01400, MSE=5.27e-01\n",
      "Epoch 01600, MSE=5.26e-01\n",
      "Epoch 01800, MSE=5.25e-01\n"
     ]
    }
   ],
   "source": [
    "gd = GDQuadratic_2(X=scaled_housing_data_plus_bias, y=housing.target.reshape(-1, 1), learning_rate=learning_rate)\n",
    "gd.fit()\n",
    "best_theta = gd.get_theta()"
   ]
  },
  {
   "cell_type": "code",
   "execution_count": 16,
   "metadata": {},
   "outputs": [
    {
     "name": "stdout",
     "output_type": "stream",
     "text": [
      "[[ 2.0685525e+00]\n",
      " [ 8.4174454e-01]\n",
      " [ 1.2624320e-01]\n",
      " [-2.7867591e-01]\n",
      " [ 3.1227720e-01]\n",
      " [-1.9350675e-03]\n",
      " [-4.0218528e-02]\n",
      " [-8.3388835e-01]\n",
      " [-8.0548280e-01]]\n",
      "mse: 5.25e-01\n"
     ]
    }
   ],
   "source": [
    "print(best_theta)\n",
    "err = np.matmul(scaled_housing_data_plus_bias, best_theta) - housing.target.reshape(-1, 1)\n",
    "print('mse: {:4.2e}'.format(np.sum(np.matmul(err.T,err))/m))"
   ]
  },
  {
   "cell_type": "markdown",
   "metadata": {},
   "source": [
    "## Using baked solver"
   ]
  },
  {
   "cell_type": "code",
   "execution_count": 17,
   "metadata": {},
   "outputs": [],
   "source": [
    "learning_rate = 1e-2"
   ]
  },
  {
   "cell_type": "code",
   "execution_count": 18,
   "metadata": {},
   "outputs": [],
   "source": [
    "class GDQuadratic_3(GDQuadratic_template):\n",
    "    def __init__ (self, X, y, learning_rate=1e-2, n_epochs=2000, print_every=200):\n",
    "        super(GDQuadratic_3, self).__init__( X, y, learning_rate=learning_rate, n_epochs=n_epochs, print_every=print_every)\n",
    "    \n",
    "    def _define_model(self):\n",
    "        self._graph = tf.Graph()\n",
    "        with self._graph.as_default():\n",
    "            X = tf.constant(self._X, dtype=tf.float32, name=\"X\")\n",
    "            y = tf.constant(self._y, dtype=tf.float32, name=\"y\")\n",
    "            H = tf.matmul(tf.transpose(X), X)\n",
    "            b = tf.matmul(tf.transpose(X), y)\n",
    "            \n",
    "            # variables\n",
    "            theta = tf.Variable(tf.zeros([n+1, 1]), name=\"theta\")\n",
    "\n",
    "            # initialization step\n",
    "            init = tf.global_variables_initializer()\n",
    "\n",
    "            # fval evaluation\n",
    "            y_pred = tf.matmul(X, theta, name='predictions')        # X*theta\n",
    "            error = y_pred - y\n",
    "            mse = tf.reduce_mean(tf.square(error), name=\"mse\")\n",
    "\n",
    "            # define solver\n",
    "            optimizer = tf.train.GradientDescentOptimizer(learning_rate=self._learning_rate)\n",
    "\n",
    "            # update step            \n",
    "            training_op = optimizer.minimize(mse, name=\"training_op\")"
   ]
  },
  {
   "cell_type": "code",
   "execution_count": 19,
   "metadata": {},
   "outputs": [
    {
     "name": "stdout",
     "output_type": "stream",
     "text": [
      "Epoch 00000, MSE=5.61e+00\n",
      "Epoch 00200, MSE=5.98e-01\n",
      "Epoch 00400, MSE=5.63e-01\n",
      "Epoch 00600, MSE=5.46e-01\n",
      "Epoch 00800, MSE=5.36e-01\n",
      "Epoch 01000, MSE=5.31e-01\n",
      "Epoch 01200, MSE=5.28e-01\n",
      "Epoch 01400, MSE=5.27e-01\n",
      "Epoch 01600, MSE=5.26e-01\n",
      "Epoch 01800, MSE=5.25e-01\n"
     ]
    }
   ],
   "source": [
    "gd = GDQuadratic_3(X=scaled_housing_data_plus_bias, y=housing.target.reshape(-1, 1), learning_rate=learning_rate)\n",
    "gd.fit()\n",
    "best_theta = gd.get_theta()"
   ]
  },
  {
   "cell_type": "code",
   "execution_count": 20,
   "metadata": {},
   "outputs": [
    {
     "name": "stdout",
     "output_type": "stream",
     "text": [
      "[[ 2.0685525e+00]\n",
      " [ 8.4174454e-01]\n",
      " [ 1.2624320e-01]\n",
      " [-2.7867591e-01]\n",
      " [ 3.1227720e-01]\n",
      " [-1.9350675e-03]\n",
      " [-4.0218528e-02]\n",
      " [-8.3388835e-01]\n",
      " [-8.0548280e-01]]\n",
      "mse: 5.25e-01\n"
     ]
    }
   ],
   "source": [
    "print(best_theta)\n",
    "err = np.matmul(scaled_housing_data_plus_bias, best_theta) - housing.target.reshape(-1, 1)\n",
    "print('mse: {:4.2e}'.format(np.sum(np.matmul(err.T,err))/m))"
   ]
  },
  {
   "cell_type": "markdown",
   "metadata": {},
   "source": [
    "## Minibatch SSD"
   ]
  },
  {
   "cell_type": "code",
   "execution_count": 21,
   "metadata": {},
   "outputs": [],
   "source": [
    "n_epochs = 2000\n",
    "print_every = 200\n",
    "learning_rate = 1e-2\n",
    "\n",
    "batch_size = 100\n",
    "n_batches = int(np.ceil(m / batch_size))"
   ]
  },
  {
   "cell_type": "code",
   "execution_count": 22,
   "metadata": {},
   "outputs": [],
   "source": [
    "class SGDQuadratic(GDQuadratic_template):\n",
    "    def __init__ (self, X, y, learning_rate=1e-2, batch_size=200, n_epochs=2000, print_every=200):\n",
    "        super(SGDQuadratic, self).__init__( X, y, learning_rate=learning_rate, n_epochs=n_epochs, print_every=print_every)\n",
    "        self._X = X\n",
    "        self._y = y\n",
    "        self._learning_rate = learning_rate\n",
    "        self._n_epochs = n_epochs\n",
    "        self._print_every = print_every\n",
    "        self._batch_size = min(batch_size, X.shape[0])\n",
    "        self._n_batches = int(np.ceil(X.shape[0] / batch_size))\n",
    "        self._best_theta = None\n",
    "        \n",
    "    def fit(self):\n",
    "        self._define_model()\n",
    "        with tf.Session(graph=self._graph) as sess:\n",
    "            \n",
    "            init = tf.get_default_graph().get_operation_by_name(\"init\")\n",
    "            training_op = tf.get_default_graph().get_operation_by_name(\"training_op\")\n",
    "            mse = tf.get_default_graph().get_tensor_by_name(\"mse:0\")\n",
    "            X = tf.get_default_graph().get_tensor_by_name(\"X:0\")\n",
    "            y = tf.get_default_graph().get_tensor_by_name(\"y:0\")\n",
    "            theta =  tf.get_default_graph().get_tensor_by_name(\"theta:0\")\n",
    "            \n",
    "            sess.run(init)\n",
    "            for epoch in range(self._n_epochs):\n",
    "                for X_batch, y_batch in self._fetch_batch(epoch):\n",
    "                    _, mse_k = sess.run([training_op, mse], feed_dict={X: X_batch, y: y_batch})\n",
    "\n",
    "                if epoch % print_every == 0:\n",
    "                    print('Epoch {:05d}, MSE={:4.2e}'.format(epoch,mse_k))\n",
    "\n",
    "            self._best_theta = theta.eval()\n",
    "    \n",
    "    def _fetch_batch(self, epoch):\n",
    "        for batch_index in range(self._n_batches):\n",
    "            np.random.seed(epoch * self._n_batches + batch_index)\n",
    "            indices = np.random.randint(self._X.shape[0], size=batch_size)\n",
    "            X_batch = self._X[indices]\n",
    "            y_batch = self._y[indices]    \n",
    "            yield X_batch, y_batch\n",
    "            \n",
    "    def _define_model(self):\n",
    "        self._graph = tf.Graph()\n",
    "        with self._graph.as_default():\n",
    "            X = tf.placeholder(tf.float32, shape=(None, self._X.shape[1]), name=\"X\")\n",
    "            y = tf.placeholder(tf.float32, shape=(None, 1), name=\"y\")\n",
    "            H = tf.matmul(tf.transpose(X), X)                       \n",
    "            b = tf.matmul(tf.transpose(X), y)\n",
    "            \n",
    "            # variables\n",
    "            theta = tf.Variable(tf.zeros([n+1, 1]), name=\"theta\")\n",
    "\n",
    "            # initialization step\n",
    "            init = tf.global_variables_initializer()\n",
    "\n",
    "            # fval evaluation\n",
    "            y_pred = tf.matmul(X, theta, name='predictions')\n",
    "            error = y_pred - y\n",
    "            mse = tf.reduce_mean(tf.square(error), name=\"mse\")\n",
    "\n",
    "            # define solver\n",
    "            optimizer = tf.train.GradientDescentOptimizer(learning_rate=self._learning_rate)\n",
    "\n",
    "            # update step            \n",
    "            training_op = optimizer.minimize(mse, name=\"training_op\")\n",
    "    "
   ]
  },
  {
   "cell_type": "code",
   "execution_count": 23,
   "metadata": {},
   "outputs": [
    {
     "name": "stdout",
     "output_type": "stream",
     "text": [
      "Epoch 00000, MSE=8.02e-01\n",
      "Epoch 00200, MSE=4.02e-01\n",
      "Epoch 00400, MSE=5.92e-01\n",
      "Epoch 00600, MSE=3.75e-01\n",
      "Epoch 00800, MSE=1.99e+00\n",
      "Epoch 01000, MSE=5.69e-01\n",
      "Epoch 01200, MSE=4.62e-01\n",
      "Epoch 01400, MSE=4.28e-01\n",
      "Epoch 01600, MSE=7.02e-01\n",
      "Epoch 01800, MSE=5.81e-01\n"
     ]
    }
   ],
   "source": [
    "sgd = SGDQuadratic(X=scaled_housing_data_plus_bias, y=housing.target.reshape(-1, 1), learning_rate=learning_rate)\n",
    "sgd.fit()\n",
    "best_theta = sgd.get_theta()"
   ]
  },
  {
   "cell_type": "code",
   "execution_count": 24,
   "metadata": {},
   "outputs": [
    {
     "name": "stdout",
     "output_type": "stream",
     "text": [
      "[[ 2.07236   ]\n",
      " [ 0.835809  ]\n",
      " [ 0.12343293]\n",
      " [-0.25836352]\n",
      " [ 0.32831344]\n",
      " [-0.01244707]\n",
      " [-0.05894813]\n",
      " [-0.88290775]\n",
      " [-0.8470536 ]]\n",
      "mse: 5.26e-01\n"
     ]
    }
   ],
   "source": [
    "print(best_theta)\n",
    "err = np.matmul(scaled_housing_data_plus_bias, best_theta) - housing.target.reshape(-1, 1)\n",
    "print('mse: {:4.2e}'.format(np.sum(np.matmul(err.T,err))/m))"
   ]
  }
 ],
 "metadata": {
  "kernelspec": {
   "display_name": "Python 3",
   "language": "python",
   "name": "python3"
  },
  "language_info": {
   "codemirror_mode": {
    "name": "ipython",
    "version": 3
   },
   "file_extension": ".py",
   "mimetype": "text/x-python",
   "name": "python",
   "nbconvert_exporter": "python",
   "pygments_lexer": "ipython3",
   "version": "3.5.2"
  }
 },
 "nbformat": 4,
 "nbformat_minor": 2
}
