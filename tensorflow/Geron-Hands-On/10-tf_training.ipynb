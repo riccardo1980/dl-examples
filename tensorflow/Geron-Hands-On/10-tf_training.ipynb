{
 "cells": [
  {
   "cell_type": "markdown",
   "metadata": {},
   "source": [
    "# DNN estimator"
   ]
  },
  {
   "cell_type": "code",
   "execution_count": 1,
   "metadata": {},
   "outputs": [
    {
     "name": "stdout",
     "output_type": "stream",
     "text": [
      "WARNING:tensorflow:From /home/ricky/envs/tf-python3/lib/python3.5/site-packages/tensorflow_estimator/python/estimator/api/_v1/estimator/__init__.py:10: The name tf.estimator.inputs is deprecated. Please use tf.compat.v1.estimator.inputs instead.\n",
      "\n"
     ]
    }
   ],
   "source": [
    "# filter out future warnings from numpy on tensorflow calls\n",
    "import warnings  \n",
    "import numpy as np\n",
    "\n",
    "with warnings.catch_warnings():  \n",
    "    warnings.filterwarnings(\"ignore\",category=FutureWarning)\n",
    "    import tensorflow as tf\n",
    "    from tensorflow.compat.v1.estimator import DNNClassifier\n",
    "\n",
    "from sklearn.datasets import fetch_openml\n",
    "from sklearn.model_selection import train_test_split\n",
    "from sklearn.preprocessing import StandardScaler"
   ]
  },
  {
   "cell_type": "markdown",
   "metadata": {},
   "source": [
    "## Dataset loading, splitting, standardization"
   ]
  },
  {
   "cell_type": "code",
   "execution_count": 2,
   "metadata": {},
   "outputs": [],
   "source": [
    "dataset = fetch_openml('iris', version=1)\n",
    "train_data, test_data, train_target, test_target = train_test_split(dataset.data, dataset.target)"
   ]
  },
  {
   "cell_type": "code",
   "execution_count": 3,
   "metadata": {},
   "outputs": [],
   "source": [
    "n_classes = len(set(dataset.target))"
   ]
  },
  {
   "cell_type": "code",
   "execution_count": 4,
   "metadata": {},
   "outputs": [],
   "source": [
    "# standardization trained on train, reused on test dataset\n",
    "scaler = StandardScaler()\n",
    "X_train = scaler.fit_transform(train_data)\n",
    "X_test = scaler.transform(test_data)"
   ]
  },
  {
   "cell_type": "code",
   "execution_count": 5,
   "metadata": {},
   "outputs": [],
   "source": [
    "# string to class index\n",
    "class_index_map = { k: v for v, k in enumerate(sorted(list(set(dataset.target))))}\n",
    "index_class_map = { v: k for k,v in class_index_map.items() }\n",
    "\n",
    "class_index_mapping = np.vectorize(lambda x: class_index_map[x])"
   ]
  },
  {
   "cell_type": "code",
   "execution_count": 6,
   "metadata": {},
   "outputs": [],
   "source": [
    "y_train = class_index_mapping(train_target).reshape(-1,1)\n",
    "y_test = class_index_mapping(test_target).reshape(-1,1)"
   ]
  },
  {
   "cell_type": "markdown",
   "metadata": {},
   "source": [
    "## MLP Training"
   ]
  },
  {
   "cell_type": "code",
   "execution_count": 7,
   "metadata": {},
   "outputs": [
    {
     "name": "stdout",
     "output_type": "stream",
     "text": [
      "INFO:tensorflow:Using default config.\n",
      "WARNING:tensorflow:Using temporary folder as model directory: /tmp/tmpzy0fcz3i\n",
      "INFO:tensorflow:Using config: {'_global_id_in_cluster': 0, '_save_checkpoints_steps': None, '_num_worker_replicas': 1, '_tf_random_seed': None, '_model_dir': '/tmp/tmpzy0fcz3i', '_num_ps_replicas': 0, '_experimental_distribute': None, '_experimental_max_worker_delay_secs': None, '_protocol': None, '_train_distribute': None, '_save_checkpoints_secs': 600, '_service': None, '_master': '', '_task_type': 'worker', '_log_step_count_steps': 100, '_keep_checkpoint_max': 5, '_save_summary_steps': 100, '_eval_distribute': None, '_evaluation_master': '', '_session_config': allow_soft_placement: true\n",
      "graph_options {\n",
      "  rewrite_options {\n",
      "    meta_optimizer_iterations: ONE\n",
      "  }\n",
      "}\n",
      ", '_keep_checkpoint_every_n_hours': 10000, '_task_id': 0, '_cluster_spec': <tensorflow.python.training.server_lib.ClusterSpec object at 0x7f95a64250f0>, '_is_chief': True, '_device_fn': None}\n",
      "INFO:tensorflow:Not using Distribute Coordinator.\n",
      "INFO:tensorflow:Running training and evaluation locally (non-distributed).\n",
      "INFO:tensorflow:Start train and evaluate loop. The evaluate will happen after every checkpoint. Checkpoint frequency is determined based on RunConfig arguments: save_checkpoints_steps None or save_checkpoints_secs 600.\n",
      "WARNING:tensorflow:From /home/ricky/envs/tf-python3/lib/python3.5/site-packages/tensorflow/python/training/training_util.py:236: Variable.initialized_value (from tensorflow.python.ops.variables) is deprecated and will be removed in a future version.\n",
      "Instructions for updating:\n",
      "Use Variable.read_value. Variables in 2.X are initialized automatically both in eager and graph (inside tf.defun) contexts.\n",
      "WARNING:tensorflow:From /home/ricky/envs/tf-python3/lib/python3.5/site-packages/tensorflow_estimator/python/estimator/inputs/queues/feeding_queue_runner.py:62: QueueRunner.__init__ (from tensorflow.python.training.queue_runner_impl) is deprecated and will be removed in a future version.\n",
      "Instructions for updating:\n",
      "To construct input pipelines, use the `tf.data` module.\n",
      "WARNING:tensorflow:From /home/ricky/envs/tf-python3/lib/python3.5/site-packages/tensorflow_estimator/python/estimator/inputs/queues/feeding_functions.py:500: add_queue_runner (from tensorflow.python.training.queue_runner_impl) is deprecated and will be removed in a future version.\n",
      "Instructions for updating:\n",
      "To construct input pipelines, use the `tf.data` module.\n",
      "INFO:tensorflow:Calling model_fn.\n",
      "WARNING:tensorflow:From /home/ricky/envs/tf-python3/lib/python3.5/site-packages/tensorflow/python/ops/init_ops.py:1251: calling VarianceScaling.__init__ (from tensorflow.python.ops.init_ops) with dtype is deprecated and will be removed in a future version.\n",
      "Instructions for updating:\n",
      "Call initializer instance with the dtype argument instead of passing it to the constructor\n",
      "WARNING:tensorflow:From /home/ricky/envs/tf-python3/lib/python3.5/site-packages/tensorflow_estimator/python/estimator/canned/head.py:437: to_float (from tensorflow.python.ops.math_ops) is deprecated and will be removed in a future version.\n",
      "Instructions for updating:\n",
      "Use `tf.cast` instead.\n",
      "WARNING:tensorflow:From /home/ricky/envs/tf-python3/lib/python3.5/site-packages/tensorflow/python/training/adagrad.py:76: calling Constant.__init__ (from tensorflow.python.ops.init_ops) with dtype is deprecated and will be removed in a future version.\n",
      "Instructions for updating:\n",
      "Call initializer instance with the dtype argument instead of passing it to the constructor\n",
      "INFO:tensorflow:Done calling model_fn.\n",
      "INFO:tensorflow:Create CheckpointSaverHook.\n",
      "WARNING:tensorflow:From /home/ricky/envs/tf-python3/lib/python3.5/site-packages/tensorflow/python/ops/array_ops.py:1354: add_dispatch_support.<locals>.wrapper (from tensorflow.python.ops.array_ops) is deprecated and will be removed in a future version.\n",
      "Instructions for updating:\n",
      "Use tf.where in 2.0, which has the same broadcast rule as np.where\n",
      "INFO:tensorflow:Graph was finalized.\n",
      "INFO:tensorflow:Running local_init_op.\n",
      "INFO:tensorflow:Done running local_init_op.\n",
      "WARNING:tensorflow:From /home/ricky/envs/tf-python3/lib/python3.5/site-packages/tensorflow/python/training/monitored_session.py:875: start_queue_runners (from tensorflow.python.training.queue_runner_impl) is deprecated and will be removed in a future version.\n",
      "Instructions for updating:\n",
      "To construct input pipelines, use the `tf.data` module.\n",
      "INFO:tensorflow:Saving checkpoints for 0 into /tmp/tmpzy0fcz3i/model.ckpt.\n",
      "INFO:tensorflow:loss = 44.265343, step = 1\n",
      "INFO:tensorflow:global_step/sec: 460.879\n",
      "INFO:tensorflow:loss = 2.1120553, step = 101 (0.218 sec)\n",
      "INFO:tensorflow:global_step/sec: 571.718\n",
      "INFO:tensorflow:loss = 2.2889018, step = 201 (0.175 sec)\n",
      "INFO:tensorflow:global_step/sec: 574.059\n",
      "INFO:tensorflow:loss = 0.1927395, step = 301 (0.174 sec)\n",
      "INFO:tensorflow:global_step/sec: 555.602\n",
      "INFO:tensorflow:loss = 0.21812606, step = 401 (0.180 sec)\n",
      "INFO:tensorflow:global_step/sec: 516.994\n",
      "INFO:tensorflow:loss = 0.39687118, step = 501 (0.196 sec)\n",
      "INFO:tensorflow:global_step/sec: 364.17\n",
      "INFO:tensorflow:loss = 0.16445702, step = 601 (0.274 sec)\n",
      "INFO:tensorflow:global_step/sec: 604.322\n",
      "INFO:tensorflow:loss = 0.07904153, step = 701 (0.164 sec)\n",
      "INFO:tensorflow:global_step/sec: 548.723\n",
      "INFO:tensorflow:loss = 0.0036645941, step = 801 (0.182 sec)\n",
      "INFO:tensorflow:global_step/sec: 545.391\n",
      "INFO:tensorflow:loss = 0.01528688, step = 901 (0.183 sec)\n",
      "INFO:tensorflow:Saving checkpoints for 1000 into /tmp/tmpzy0fcz3i/model.ckpt.\n",
      "INFO:tensorflow:Calling model_fn.\n",
      "INFO:tensorflow:Done calling model_fn.\n",
      "INFO:tensorflow:Starting evaluation at 2019-09-05T14:59:22Z\n",
      "INFO:tensorflow:Graph was finalized.\n",
      "WARNING:tensorflow:From /home/ricky/envs/tf-python3/lib/python3.5/site-packages/tensorflow/python/training/saver.py:1276: checkpoint_exists (from tensorflow.python.training.checkpoint_management) is deprecated and will be removed in a future version.\n",
      "Instructions for updating:\n",
      "Use standard file APIs to check for files with this prefix.\n",
      "INFO:tensorflow:Restoring parameters from /tmp/tmpzy0fcz3i/model.ckpt-1000\n",
      "INFO:tensorflow:Running local_init_op.\n",
      "INFO:tensorflow:Done running local_init_op.\n",
      "INFO:tensorflow:Evaluation [10/100]\n",
      "INFO:tensorflow:Evaluation [20/100]\n",
      "INFO:tensorflow:Evaluation [30/100]\n",
      "INFO:tensorflow:Evaluation [40/100]\n",
      "INFO:tensorflow:Evaluation [50/100]\n",
      "INFO:tensorflow:Evaluation [60/100]\n",
      "INFO:tensorflow:Evaluation [70/100]\n",
      "INFO:tensorflow:Evaluation [80/100]\n",
      "INFO:tensorflow:Evaluation [90/100]\n",
      "INFO:tensorflow:Evaluation [100/100]\n",
      "INFO:tensorflow:Finished evaluation at 2019-09-05-14:59:23\n",
      "INFO:tensorflow:Saving dict for global step 1000: accuracy = 0.94734377, average_loss = 0.29450712, global_step = 1000, loss = 37.69691\n",
      "INFO:tensorflow:Saving 'checkpoint_path' summary for global step 1000: /tmp/tmpzy0fcz3i/model.ckpt-1000\n",
      "INFO:tensorflow:Loss for final step: 0.07594118.\n"
     ]
    },
    {
     "data": {
      "text/plain": [
       "({'accuracy': 0.94734377,\n",
       "  'average_loss': 0.29450712,\n",
       "  'global_step': 1000,\n",
       "  'loss': 37.69691},\n",
       " [])"
      ]
     },
     "execution_count": 7,
     "metadata": {},
     "output_type": "execute_result"
    }
   ],
   "source": [
    "feature_columns = [ tf.feature_column.numeric_column(key=feature_name) for feature_name in dataset.feature_names ]\n",
    "\n",
    "estimator = DNNClassifier(feature_columns=feature_columns,\n",
    "                          hidden_units = [300,100],\n",
    "                          n_classes = n_classes)\n",
    "\n",
    "batch_size = 50\n",
    "\n",
    "train_spec = tf.estimator.TrainSpec(input_fn=tf.estimator.inputs.numpy_input_fn(x = {'sepallength' : X_train[:,0],\n",
    "                                                                                     'sepalwidth' : X_train[:,1],\n",
    "                                                                                     'petallength' : X_train[:,2],\n",
    "                                                                                     'petalwidth' : X_train[:,3]\n",
    "                                                                                    },\n",
    "                                                                                y = y_train, \n",
    "                                                                                batch_size=batch_size, \n",
    "                                                                                num_epochs=None,\n",
    "                                                                                shuffle=True),\n",
    "                                    max_steps=1000)\n",
    "                                    \n",
    "eval_spec = tf.estimator.EvalSpec(input_fn=tf.estimator.inputs.numpy_input_fn(x = {'sepallength' : X_test[:,0],\n",
    "                                                                                   'sepalwidth' : X_test[:,1],\n",
    "                                                                                   'petallength' : X_test[:,2],\n",
    "                                                                                   'petalwidth' : X_test[:,3]\n",
    "                                                                                  },\n",
    "                                                                              y = y_test, \n",
    "                                                                              num_epochs=None,\n",
    "                                                                              shuffle=False))\n",
    "\n",
    "tf.estimator.train_and_evaluate(estimator, train_spec, eval_spec)"
   ]
  }
 ],
 "metadata": {
  "kernelspec": {
   "display_name": "Python 3",
   "language": "python",
   "name": "python3"
  },
  "language_info": {
   "codemirror_mode": {
    "name": "ipython",
    "version": 3
   },
   "file_extension": ".py",
   "mimetype": "text/x-python",
   "name": "python",
   "nbconvert_exporter": "python",
   "pygments_lexer": "ipython3",
   "version": "3.5.2"
  }
 },
 "nbformat": 4,
 "nbformat_minor": 2
}
